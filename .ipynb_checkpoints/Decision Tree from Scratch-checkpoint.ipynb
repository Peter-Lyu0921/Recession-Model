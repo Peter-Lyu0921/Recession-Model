{
 "cells": [
  {
   "cell_type": "code",
   "execution_count": 2,
   "id": "0526b4ab",
   "metadata": {},
   "outputs": [],
   "source": [
    "import numpy as np\n",
    "import pandas as pd\n",
    "import matplotlib as mp"
   ]
  },
  {
   "cell_type": "code",
   "execution_count": 46,
   "id": "92721abb",
   "metadata": {},
   "outputs": [],
   "source": [
    "# The Dataframe used in Decision Tree should have the label in the last column\n",
    "\n",
    "training_data = [\n",
    "    ['Green', 3, 'Apple'],\n",
    "    ['Yellow', 3, 'Apple'],\n",
    "    ['Red', 1, 'Grape'],\n",
    "    ['Red', 1, 'Grape'],\n",
    "    ['Yellow', 3, 'Lemon'],\n",
    "    ['Green', 3, 'Apple'],\n",
    "    ['Red', 3, 'Apple'],\n",
    "    ['Green', 1, 'Grape'],\n",
    "    ['Yellow', 1, 'Grape'],\n",
    "    ['Red', 4, 'Apple'],\n",
    "    ['Yellow', 2, 'Grape'],\n",
    "    ['Green', 4, 'Apple'],\n",
    "    ['Green', 1.5, 'Grape'],\n",
    "    ['Yellow', 4, 'Lemon'],\n",
    "    ['Yellow', 3, 'Lemon'],\n",
    "]"
   ]
  },
  {
   "cell_type": "code",
   "execution_count": 47,
   "id": "94850edb",
   "metadata": {},
   "outputs": [
    {
     "data": {
      "text/html": [
       "<div>\n",
       "<style scoped>\n",
       "    .dataframe tbody tr th:only-of-type {\n",
       "        vertical-align: middle;\n",
       "    }\n",
       "\n",
       "    .dataframe tbody tr th {\n",
       "        vertical-align: top;\n",
       "    }\n",
       "\n",
       "    .dataframe thead th {\n",
       "        text-align: right;\n",
       "    }\n",
       "</style>\n",
       "<table border=\"1\" class=\"dataframe\">\n",
       "  <thead>\n",
       "    <tr style=\"text-align: right;\">\n",
       "      <th></th>\n",
       "      <th>color</th>\n",
       "      <th>diameter</th>\n",
       "      <th>label</th>\n",
       "    </tr>\n",
       "  </thead>\n",
       "  <tbody>\n",
       "    <tr>\n",
       "      <th>0</th>\n",
       "      <td>Green</td>\n",
       "      <td>3.0</td>\n",
       "      <td>Apple</td>\n",
       "    </tr>\n",
       "    <tr>\n",
       "      <th>1</th>\n",
       "      <td>Yellow</td>\n",
       "      <td>3.0</td>\n",
       "      <td>Apple</td>\n",
       "    </tr>\n",
       "    <tr>\n",
       "      <th>2</th>\n",
       "      <td>Red</td>\n",
       "      <td>1.0</td>\n",
       "      <td>Grape</td>\n",
       "    </tr>\n",
       "    <tr>\n",
       "      <th>3</th>\n",
       "      <td>Red</td>\n",
       "      <td>1.0</td>\n",
       "      <td>Grape</td>\n",
       "    </tr>\n",
       "    <tr>\n",
       "      <th>4</th>\n",
       "      <td>Yellow</td>\n",
       "      <td>3.0</td>\n",
       "      <td>Lemon</td>\n",
       "    </tr>\n",
       "    <tr>\n",
       "      <th>5</th>\n",
       "      <td>Green</td>\n",
       "      <td>3.0</td>\n",
       "      <td>Apple</td>\n",
       "    </tr>\n",
       "    <tr>\n",
       "      <th>6</th>\n",
       "      <td>Red</td>\n",
       "      <td>3.0</td>\n",
       "      <td>Apple</td>\n",
       "    </tr>\n",
       "    <tr>\n",
       "      <th>7</th>\n",
       "      <td>Green</td>\n",
       "      <td>1.0</td>\n",
       "      <td>Grape</td>\n",
       "    </tr>\n",
       "    <tr>\n",
       "      <th>8</th>\n",
       "      <td>Yellow</td>\n",
       "      <td>1.0</td>\n",
       "      <td>Grape</td>\n",
       "    </tr>\n",
       "    <tr>\n",
       "      <th>9</th>\n",
       "      <td>Red</td>\n",
       "      <td>4.0</td>\n",
       "      <td>Apple</td>\n",
       "    </tr>\n",
       "    <tr>\n",
       "      <th>10</th>\n",
       "      <td>Yellow</td>\n",
       "      <td>2.0</td>\n",
       "      <td>Grape</td>\n",
       "    </tr>\n",
       "    <tr>\n",
       "      <th>11</th>\n",
       "      <td>Green</td>\n",
       "      <td>4.0</td>\n",
       "      <td>Apple</td>\n",
       "    </tr>\n",
       "    <tr>\n",
       "      <th>12</th>\n",
       "      <td>Green</td>\n",
       "      <td>1.5</td>\n",
       "      <td>Grape</td>\n",
       "    </tr>\n",
       "    <tr>\n",
       "      <th>13</th>\n",
       "      <td>Yellow</td>\n",
       "      <td>4.0</td>\n",
       "      <td>Lemon</td>\n",
       "    </tr>\n",
       "    <tr>\n",
       "      <th>14</th>\n",
       "      <td>Yellow</td>\n",
       "      <td>3.0</td>\n",
       "      <td>Lemon</td>\n",
       "    </tr>\n",
       "  </tbody>\n",
       "</table>\n",
       "</div>"
      ],
      "text/plain": [
       "     color  diameter  label\n",
       "0    Green       3.0  Apple\n",
       "1   Yellow       3.0  Apple\n",
       "2      Red       1.0  Grape\n",
       "3      Red       1.0  Grape\n",
       "4   Yellow       3.0  Lemon\n",
       "5    Green       3.0  Apple\n",
       "6      Red       3.0  Apple\n",
       "7    Green       1.0  Grape\n",
       "8   Yellow       1.0  Grape\n",
       "9      Red       4.0  Apple\n",
       "10  Yellow       2.0  Grape\n",
       "11   Green       4.0  Apple\n",
       "12   Green       1.5  Grape\n",
       "13  Yellow       4.0  Lemon\n",
       "14  Yellow       3.0  Lemon"
      ]
     },
     "execution_count": 47,
     "metadata": {},
     "output_type": "execute_result"
    }
   ],
   "source": [
    "training_dataframe = pd.DataFrame(training_data)\n",
    "training_dataframe = training_dataframe.rename(columns = {0: \"color\", 1: \"diameter\", 2: \"label\"})\n",
    "training_dataframe"
   ]
  },
  {
   "cell_type": "code",
   "execution_count": 5,
   "id": "bb3a90e0",
   "metadata": {},
   "outputs": [],
   "source": [
    "# Search Unique Value in a Column of a Pandas Dataframe\n",
    "def get_column_unique_value(dataframe, col_name):\n",
    "    unique_values = []\n",
    "    \n",
    "    for index, rows in dataframe.iterrows():\n",
    "        unique_values.append(rows.loc[col_name])\n",
    "    \n",
    "    return set(unique_values)"
   ]
  },
  {
   "cell_type": "code",
   "execution_count": 48,
   "id": "e6199921",
   "metadata": {},
   "outputs": [
    {
     "data": {
      "text/plain": [
       "{'Apple', 'Grape', 'Lemon'}"
      ]
     },
     "execution_count": 48,
     "metadata": {},
     "output_type": "execute_result"
    }
   ],
   "source": [
    "get_column_unique_value(training_dataframe, \"label\")"
   ]
  },
  {
   "cell_type": "code",
   "execution_count": 7,
   "id": "c887bbb7",
   "metadata": {},
   "outputs": [],
   "source": [
    "# Count the Number of Label in a Pandas Dataframe\n",
    "def get_class_count(dataframe):\n",
    "    class_count = {}\n",
    "    \n",
    "    for index, rows in dataframe.iterrows():\n",
    "        label = rows[-1]\n",
    "        if label not in class_count:\n",
    "            class_count[label] = 0\n",
    "        class_count[label] += 1\n",
    "    \n",
    "    return class_count"
   ]
  },
  {
   "cell_type": "code",
   "execution_count": 49,
   "id": "40794992",
   "metadata": {},
   "outputs": [
    {
     "data": {
      "text/plain": [
       "{'Apple': 6, 'Grape': 6, 'Lemon': 3}"
      ]
     },
     "execution_count": 49,
     "metadata": {},
     "output_type": "execute_result"
    }
   ],
   "source": [
    "get_class_count(training_dataframe)"
   ]
  },
  {
   "cell_type": "code",
   "execution_count": 9,
   "id": "6844ec65",
   "metadata": {},
   "outputs": [],
   "source": [
    "# Calculate the Gini_Impurity of a Specific Node\n",
    "def gini_impurity(dataframe):\n",
    "    class_count = get_class_count(dataframe)\n",
    "    gini_impurity = 1\n",
    "    \n",
    "    for label in class_count:\n",
    "        label_prob = class_count[label]/float(len(dataframe))\n",
    "        gini_impurity -= label_prob**2\n",
    "    \n",
    "    return gini_impurity"
   ]
  },
  {
   "cell_type": "code",
   "execution_count": 10,
   "id": "81218cae",
   "metadata": {},
   "outputs": [
    {
     "data": {
      "text/plain": [
       "0.6399999999999999"
      ]
     },
     "execution_count": 10,
     "metadata": {},
     "output_type": "execute_result"
    }
   ],
   "source": [
    "gini_impurity(training_dataframe)"
   ]
  },
  {
   "cell_type": "code",
   "execution_count": 11,
   "id": "882e03fd",
   "metadata": {},
   "outputs": [],
   "source": [
    "# Claculate the Information Gain of a Split\n",
    "def information_gain(left_dataframe, right_dataframe, current_dataframe):\n",
    "    \n",
    "    current_gini = gini_impurity(current_dataframe)\n",
    "    left_gini = gini_impurity(left_dataframe)\n",
    "    right_gini = gini_impurity(right_dataframe)\n",
    "    \n",
    "    left_weight = float(len(left_dataframe))/float(len(current_dataframe))\n",
    "    information_gain = current_gini - (left_weight * left_gini + (1 - left_weight) * right_gini)\n",
    "    \n",
    "    return information_gain"
   ]
  },
  {
   "cell_type": "code",
   "execution_count": 12,
   "id": "c82ff24d",
   "metadata": {},
   "outputs": [
    {
     "data": {
      "text/plain": [
       "2"
      ]
     },
     "execution_count": 12,
     "metadata": {},
     "output_type": "execute_result"
    }
   ],
   "source": [
    "len(training_dataframe.columns)-1"
   ]
  },
  {
   "cell_type": "code",
   "execution_count": 13,
   "id": "808f18ec",
   "metadata": {},
   "outputs": [],
   "source": [
    "def dataframe_split(dataframe, col_name, value):\n",
    "    \n",
    "    number_or_not = isinstance(value, int) or isinstance(value, float)\n",
    "    \n",
    "    if number_or_not == True:\n",
    "        right_dataframe = dataframe.loc[dataframe[col_name] > value]\n",
    "        left_dataframe = dataframe.loc[dataframe[col_name] <= value]\n",
    "        return right_dataframe, left_dataframe\n",
    "    \n",
    "    else:\n",
    "        right_dataframe = dataframe.loc[dataframe[col_name] == value]\n",
    "        left_dataframe = dataframe.loc[dataframe[col_name] != value]\n",
    "        return right_dataframe, left_dataframe"
   ]
  },
  {
   "cell_type": "code",
   "execution_count": 14,
   "id": "ac995f92",
   "metadata": {},
   "outputs": [],
   "source": [
    "# Finding the best split for each dataframe\n",
    "def find_best_split(dataframe):\n",
    "    \n",
    "    best_information_gain = 0\n",
    "    best_label_to_split = None\n",
    "    best_value_to_split = None\n",
    "    current_gini = gini_impurity(dataframe)\n",
    "    n_features = training_dataframe.columns.drop(\"label\") # Finding the number of feature, -1 for label columns\n",
    "    \n",
    "    for col_name in n_features:\n",
    "        unique_values = get_column_unique_value(dataframe, col_name)\n",
    "        \n",
    "        for values in unique_values:\n",
    "            right_dataframe, left_dataframe = dataframe_split(dataframe, col_name, values)\n",
    "                \n",
    "            infor_gain = information_gain(left_dataframe, right_dataframe, dataframe)\n",
    "            \n",
    "            if infor_gain > best_information_gain:\n",
    "                \n",
    "                best_information_gain = infor_gain\n",
    "                best_label_to_split = col_name\n",
    "                best_value_to_split = values\n",
    "                \n",
    "    \n",
    "    return best_label_to_split, best_value_to_split, best_information_gain"
   ]
  },
  {
   "cell_type": "code",
   "execution_count": 50,
   "id": "26a21359",
   "metadata": {
    "scrolled": false
   },
   "outputs": [
    {
     "data": {
      "text/plain": [
       "('diameter', 2.0, 0.37333333333333324)"
      ]
     },
     "execution_count": 50,
     "metadata": {},
     "output_type": "execute_result"
    }
   ],
   "source": [
    "find_best_split(training_dataframe)"
   ]
  },
  {
   "cell_type": "code",
   "execution_count": 16,
   "id": "4d3a157d",
   "metadata": {},
   "outputs": [],
   "source": [
    "class leaf: \n",
    "    \n",
    "    def __init__(self, dataframe):\n",
    "        self.predictions = get_class_count(dataframe)"
   ]
  },
  {
   "cell_type": "code",
   "execution_count": 17,
   "id": "b156cdda",
   "metadata": {},
   "outputs": [],
   "source": [
    "class node:\n",
    "    \n",
    "    def __init__(self, label, value, right_branch, left_branch):\n",
    "        self.label = label\n",
    "        self.value = value\n",
    "        self.right_branch = right_branch\n",
    "        self.left_branch = left_branch"
   ]
  },
  {
   "cell_type": "code",
   "execution_count": 31,
   "id": "e2473cce",
   "metadata": {},
   "outputs": [],
   "source": [
    "def build_trees(dataframe):\n",
    "    \n",
    "    label_to_split, value_to_split, infor_gain = find_best_split(dataframe)\n",
    "    \n",
    "    if infor_gain == 0:\n",
    "        return leaf(dataframe)\n",
    "    \n",
    "    right_dataframe, left_dataframe = dataframe_split(dataframe, label_to_split, value_to_split)\n",
    "    \n",
    "    right_branch = build_trees(right_dataframe)\n",
    "    \n",
    "    left_branch = build_trees(left_dataframe)\n",
    "    \n",
    "    return node(label_to_split, value_to_split, right_branch, left_branch)\n",
    "    "
   ]
  },
  {
   "cell_type": "code",
   "execution_count": 19,
   "id": "f1726b29",
   "metadata": {},
   "outputs": [],
   "source": [
    "def print_tree(node, spacing = \" \"):\n",
    "    \n",
    "    if isinstance(node, leaf):\n",
    "        print(spacing + \"Predict\" + str(node.predictions))\n",
    "        return\n",
    "        \n",
    "    print(spacing + \"Feature to split: \" + str(node.label) + \", Value to split: \" + str(node.value))\n",
    "    \n",
    "    print(\"   \" + \"--> True:\")\n",
    "    print_tree(node.right_branch)\n",
    "    \n",
    "    print(\"   \" + \"--> False:\")\n",
    "    print_tree(node.left_branch)\n"
   ]
  },
  {
   "cell_type": "code",
   "execution_count": 51,
   "id": "d04a1e8e",
   "metadata": {},
   "outputs": [
    {
     "name": "stdout",
     "output_type": "stream",
     "text": [
      " Feature to split: diameter, Value to split: 2.0\n",
      "   --> True:\n",
      " Feature to split: color, Value to split: Yellow\n",
      "   --> True:\n",
      " Feature to split: diameter, Value to split: 3.0\n",
      "   --> True:\n",
      " Predict{'Lemon': 1}\n",
      "   --> False:\n",
      " Predict{'Apple': 1, 'Lemon': 2}\n",
      "   --> False:\n",
      " Predict{'Apple': 5}\n",
      "   --> False:\n",
      " Predict{'Grape': 6}\n"
     ]
    }
   ],
   "source": [
    "tree = build_trees(training_dataframe)\n",
    "print_tree(tree)"
   ]
  },
  {
   "cell_type": "code",
   "execution_count": 52,
   "id": "3b64a164",
   "metadata": {},
   "outputs": [],
   "source": [
    "def predict(data, node):\n",
    "    if isinstance(node, leaf):\n",
    "        return node.predictions\n",
    "    \n",
    "    if data[node.label] == node.value:\n",
    "        return predict(data, node.right_branch)\n",
    "    else:\n",
    "        return predict(data, node.left_branch)"
   ]
  },
  {
   "cell_type": "code",
   "execution_count": 53,
   "id": "e4407521",
   "metadata": {},
   "outputs": [],
   "source": [
    "a = training_dataframe.loc[0]"
   ]
  },
  {
   "cell_type": "code",
   "execution_count": 58,
   "id": "3ccd6474",
   "metadata": {},
   "outputs": [
    {
     "data": {
      "text/plain": [
       "pandas.core.series.Series"
      ]
     },
     "execution_count": 58,
     "metadata": {},
     "output_type": "execute_result"
    }
   ],
   "source": [
    "type(a)"
   ]
  },
  {
   "cell_type": "code",
   "execution_count": 54,
   "id": "882ee1f9",
   "metadata": {},
   "outputs": [],
   "source": [
    "test_set = pd.DataFrame(\n",
    "    {\n",
    "        \"color\": ['Red', \"Green\"], \n",
    "        \"diameter\": [3, 1], \n",
    "        \"label\": ['Apple', \"Grape\"]\n",
    "    }\n",
    ")"
   ]
  },
  {
   "cell_type": "code",
   "execution_count": 55,
   "id": "a523daca",
   "metadata": {},
   "outputs": [
    {
     "data": {
      "text/html": [
       "<div>\n",
       "<style scoped>\n",
       "    .dataframe tbody tr th:only-of-type {\n",
       "        vertical-align: middle;\n",
       "    }\n",
       "\n",
       "    .dataframe tbody tr th {\n",
       "        vertical-align: top;\n",
       "    }\n",
       "\n",
       "    .dataframe thead th {\n",
       "        text-align: right;\n",
       "    }\n",
       "</style>\n",
       "<table border=\"1\" class=\"dataframe\">\n",
       "  <thead>\n",
       "    <tr style=\"text-align: right;\">\n",
       "      <th></th>\n",
       "      <th>color</th>\n",
       "      <th>diameter</th>\n",
       "      <th>label</th>\n",
       "    </tr>\n",
       "  </thead>\n",
       "  <tbody>\n",
       "    <tr>\n",
       "      <th>0</th>\n",
       "      <td>Red</td>\n",
       "      <td>3</td>\n",
       "      <td>Apple</td>\n",
       "    </tr>\n",
       "    <tr>\n",
       "      <th>1</th>\n",
       "      <td>Green</td>\n",
       "      <td>1</td>\n",
       "      <td>Grape</td>\n",
       "    </tr>\n",
       "  </tbody>\n",
       "</table>\n",
       "</div>"
      ],
      "text/plain": [
       "   color  diameter  label\n",
       "0    Red         3  Apple\n",
       "1  Green         1  Grape"
      ]
     },
     "execution_count": 55,
     "metadata": {},
     "output_type": "execute_result"
    }
   ],
   "source": [
    "test_set"
   ]
  },
  {
   "cell_type": "code",
   "execution_count": 56,
   "id": "3faef752",
   "metadata": {},
   "outputs": [
    {
     "data": {
      "text/plain": [
       "pandas.core.series.Series"
      ]
     },
     "execution_count": 56,
     "metadata": {},
     "output_type": "execute_result"
    }
   ],
   "source": [
    "type(test_set.loc[0])"
   ]
  },
  {
   "cell_type": "code",
   "execution_count": 36,
   "id": "63e36878",
   "metadata": {},
   "outputs": [
    {
     "data": {
      "text/plain": [
       "{'Grape': 2}"
      ]
     },
     "execution_count": 36,
     "metadata": {},
     "output_type": "execute_result"
    }
   ],
   "source": [
    "predict(test_set.loc[0], tree)"
   ]
  },
  {
   "cell_type": "code",
   "execution_count": 57,
   "id": "1616c7ec",
   "metadata": {},
   "outputs": [
    {
     "name": "stdout",
     "output_type": "stream",
     "text": [
      "{'Grape': 6}\n",
      "{'Grape': 6}\n"
     ]
    }
   ],
   "source": [
    "for i in range(len(test_set)):\n",
    "    a = predict(test_set.loc[i], tree)\n",
    "    print(a)"
   ]
  },
  {
   "cell_type": "code",
   "execution_count": 37,
   "id": "40b42a11",
   "metadata": {},
   "outputs": [
    {
     "data": {
      "text/plain": [
       "2"
      ]
     },
     "execution_count": 37,
     "metadata": {},
     "output_type": "execute_result"
    }
   ],
   "source": [
    "len(test_set)"
   ]
  }
 ],
 "metadata": {
  "kernelspec": {
   "display_name": "Python 3 (ipykernel)",
   "language": "python",
   "name": "python3"
  },
  "language_info": {
   "codemirror_mode": {
    "name": "ipython",
    "version": 3
   },
   "file_extension": ".py",
   "mimetype": "text/x-python",
   "name": "python",
   "nbconvert_exporter": "python",
   "pygments_lexer": "ipython3",
   "version": "3.11.3"
  }
 },
 "nbformat": 4,
 "nbformat_minor": 5
}
