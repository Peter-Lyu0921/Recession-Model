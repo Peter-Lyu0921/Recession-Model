{
 "cells": [
  {
   "cell_type": "code",
   "execution_count": 3,
   "id": "0526b4ab",
   "metadata": {},
   "outputs": [],
   "source": [
    "import numpy as np\n",
    "import pandas as pd\n",
    "import matplotlib as mp"
   ]
  },
  {
   "cell_type": "code",
   "execution_count": 4,
   "id": "92721abb",
   "metadata": {},
   "outputs": [],
   "source": [
    "# Find the Number of Misclassification for Intermediate Nodes\n",
    "def intermediate_node_num_mistakes(labels_in_node):\n",
    "    \n",
    "    if len(labels_in_node) == 0:\n",
    "        return \"Empty Node\"\n",
    "    \n",
    "    number_correct_classification = np.count_nonzero(labels_in_node == 1)\n",
    "    \n",
    "    number_incorrect_classification = np.count_nonzero(labels_in_node == 0)\n",
    "    \n",
    "    return number_incorrect_classification"
   ]
  },
  {
   "cell_type": "code",
   "execution_count": 5,
   "id": "b9094a08",
   "metadata": {},
   "outputs": [
    {
     "data": {
      "text/plain": [
       "2"
      ]
     },
     "execution_count": 5,
     "metadata": {},
     "output_type": "execute_result"
    }
   ],
   "source": [
    "a = [1, 0, 1, 1, 0, 1]\n",
    "a = np.array(a)\n",
    "intermediate_node_num_mistakes(a)"
   ]
  },
  {
   "cell_type": "code",
   "execution_count": null,
   "id": "94850edb",
   "metadata": {},
   "outputs": [],
   "source": [
    "# Find the Best Feature to Split\n",
    "def best_spliting_feature(data, features, target):\n",
    "    \n",
    "    target_values = data[target]\n",
    "    best_feature = None\n",
    "    best_error = 10\n",
    "    \n",
    "    for feature in features:\n",
    "        \n",
    "        left"
   ]
  },
  {
   "cell_type": "code",
   "execution_count": null,
   "id": "bb3a90e0",
   "metadata": {},
   "outputs": [],
   "source": []
  },
  {
   "cell_type": "code",
   "execution_count": null,
   "id": "7aad90f5",
   "metadata": {},
   "outputs": [],
   "source": []
  },
  {
   "cell_type": "code",
   "execution_count": null,
   "id": "40794992",
   "metadata": {},
   "outputs": [],
   "source": []
  },
  {
   "cell_type": "code",
   "execution_count": null,
   "id": "6844ec65",
   "metadata": {},
   "outputs": [],
   "source": []
  },
  {
   "cell_type": "code",
   "execution_count": null,
   "id": "81218cae",
   "metadata": {},
   "outputs": [],
   "source": []
  },
  {
   "cell_type": "code",
   "execution_count": null,
   "id": "882e03fd",
   "metadata": {},
   "outputs": [],
   "source": []
  },
  {
   "cell_type": "code",
   "execution_count": null,
   "id": "c82ff24d",
   "metadata": {},
   "outputs": [],
   "source": []
  }
 ],
 "metadata": {
  "kernelspec": {
   "display_name": "Python 3 (ipykernel)",
   "language": "python",
   "name": "python3"
  },
  "language_info": {
   "codemirror_mode": {
    "name": "ipython",
    "version": 3
   },
   "file_extension": ".py",
   "mimetype": "text/x-python",
   "name": "python",
   "nbconvert_exporter": "python",
   "pygments_lexer": "ipython3",
   "version": "3.11.3"
  }
 },
 "nbformat": 4,
 "nbformat_minor": 5
}
