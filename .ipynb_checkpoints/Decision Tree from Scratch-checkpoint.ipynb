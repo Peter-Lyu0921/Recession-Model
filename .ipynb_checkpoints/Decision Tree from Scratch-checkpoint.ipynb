{
 "cells": [
  {
   "cell_type": "code",
   "execution_count": 1,
   "id": "0526b4ab",
   "metadata": {},
   "outputs": [],
   "source": [
    "import numpy as np\n",
    "import pandas as pd\n",
    "import matplotlib as mp"
   ]
  },
  {
   "cell_type": "code",
   "execution_count": 2,
   "id": "92721abb",
   "metadata": {},
   "outputs": [],
   "source": [
    "# The Dataframe used in Decision Tree should have the label in the last column\n",
    "\n",
    "training_data = [\n",
    "    ['Green', 3, 'Apple'],\n",
    "    ['Yellow', 3, 'Apple'],\n",
    "    ['Red', 1, 'Grape'],\n",
    "    ['Red', 1, 'Grape'],\n",
    "    ['Yellow', 3, 'Lemon'],\n",
    "]"
   ]
  },
  {
   "cell_type": "code",
   "execution_count": 34,
   "id": "94850edb",
   "metadata": {},
   "outputs": [
    {
     "data": {
      "text/html": [
       "<div>\n",
       "<style scoped>\n",
       "    .dataframe tbody tr th:only-of-type {\n",
       "        vertical-align: middle;\n",
       "    }\n",
       "\n",
       "    .dataframe tbody tr th {\n",
       "        vertical-align: top;\n",
       "    }\n",
       "\n",
       "    .dataframe thead th {\n",
       "        text-align: right;\n",
       "    }\n",
       "</style>\n",
       "<table border=\"1\" class=\"dataframe\">\n",
       "  <thead>\n",
       "    <tr style=\"text-align: right;\">\n",
       "      <th></th>\n",
       "      <th>color</th>\n",
       "      <th>diameter</th>\n",
       "      <th>label</th>\n",
       "    </tr>\n",
       "  </thead>\n",
       "  <tbody>\n",
       "    <tr>\n",
       "      <th>0</th>\n",
       "      <td>Green</td>\n",
       "      <td>3</td>\n",
       "      <td>Apple</td>\n",
       "    </tr>\n",
       "    <tr>\n",
       "      <th>1</th>\n",
       "      <td>Yellow</td>\n",
       "      <td>3</td>\n",
       "      <td>Apple</td>\n",
       "    </tr>\n",
       "    <tr>\n",
       "      <th>2</th>\n",
       "      <td>Red</td>\n",
       "      <td>1</td>\n",
       "      <td>Grape</td>\n",
       "    </tr>\n",
       "    <tr>\n",
       "      <th>3</th>\n",
       "      <td>Red</td>\n",
       "      <td>1</td>\n",
       "      <td>Grape</td>\n",
       "    </tr>\n",
       "    <tr>\n",
       "      <th>4</th>\n",
       "      <td>Yellow</td>\n",
       "      <td>3</td>\n",
       "      <td>Lemon</td>\n",
       "    </tr>\n",
       "  </tbody>\n",
       "</table>\n",
       "</div>"
      ],
      "text/plain": [
       "    color  diameter  label\n",
       "0   Green         3  Apple\n",
       "1  Yellow         3  Apple\n",
       "2     Red         1  Grape\n",
       "3     Red         1  Grape\n",
       "4  Yellow         3  Lemon"
      ]
     },
     "execution_count": 34,
     "metadata": {},
     "output_type": "execute_result"
    }
   ],
   "source": [
    "training_dataframe = pd.DataFrame(training_data)\n",
    "training_dataframe = training_dataframe.rename(columns = {0: \"color\", 1: \"diameter\", 2: \"label\"})\n",
    "training_dataframe"
   ]
  },
  {
   "cell_type": "code",
   "execution_count": 57,
   "id": "bb3a90e0",
   "metadata": {},
   "outputs": [],
   "source": [
    "# Search Unique Value in a Column of a Pandas Dataframe\n",
    "def get_column_unique_value(dataframe, col_name):\n",
    "    unique_values = []\n",
    "    \n",
    "    for index, rows in dataframe.iterrows():\n",
    "        unique_values.append(rows.loc[col_name])\n",
    "    \n",
    "    return set(unique_values)"
   ]
  },
  {
   "cell_type": "code",
   "execution_count": 59,
   "id": "e6199921",
   "metadata": {},
   "outputs": [
    {
     "data": {
      "text/plain": [
       "{'Apple', 'Grape', 'Lemon'}"
      ]
     },
     "execution_count": 59,
     "metadata": {},
     "output_type": "execute_result"
    }
   ],
   "source": [
    "get_column_unique_value(training_dataframe, \"label\")"
   ]
  },
  {
   "cell_type": "code",
   "execution_count": 37,
   "id": "c887bbb7",
   "metadata": {},
   "outputs": [],
   "source": [
    "# Count the Number of Label in a Pandas Dataframe\n",
    "def get_class_count(dataframe):\n",
    "    class_count = {}\n",
    "    \n",
    "    for index, rows in dataframe.iterrows():\n",
    "        label = rows[-1]\n",
    "        if label not in class_count:\n",
    "            class_count[label] = 0\n",
    "        class_count[label] += 1\n",
    "    \n",
    "    return class_count"
   ]
  },
  {
   "cell_type": "code",
   "execution_count": 38,
   "id": "40794992",
   "metadata": {},
   "outputs": [
    {
     "data": {
      "text/plain": [
       "{'Apple': 2, 'Grape': 2, 'Lemon': 1}"
      ]
     },
     "execution_count": 38,
     "metadata": {},
     "output_type": "execute_result"
    }
   ],
   "source": [
    "get_class_count(training_dataframe)"
   ]
  },
  {
   "cell_type": "code",
   "execution_count": 39,
   "id": "6844ec65",
   "metadata": {},
   "outputs": [],
   "source": [
    "# Calculate the Gini_Impurity of a Specific Node\n",
    "def gini_impurity(dataframe):\n",
    "    class_count = get_class_count(dataframe)\n",
    "    gini_impurity = 1\n",
    "    \n",
    "    for label in class_count:\n",
    "        label_prob = class_count[label]/float(len(dataframe))\n",
    "        gini_impurity -= label_prob**2\n",
    "    \n",
    "    return gini_impurity"
   ]
  },
  {
   "cell_type": "code",
   "execution_count": 40,
   "id": "81218cae",
   "metadata": {},
   "outputs": [
    {
     "data": {
      "text/plain": [
       "0.6399999999999999"
      ]
     },
     "execution_count": 40,
     "metadata": {},
     "output_type": "execute_result"
    }
   ],
   "source": [
    "gini_impurity(training_dataframe)"
   ]
  },
  {
   "cell_type": "code",
   "execution_count": 43,
   "id": "882e03fd",
   "metadata": {},
   "outputs": [],
   "source": [
    "# Claculate the Information Gain of a Split\n",
    "def information_gain(left_dataframe, right_dataframe, current_dataframe):\n",
    "    \n",
    "    current_gini = gini_impurity(current_dataframe)\n",
    "    left_gini = gini_impurity(left_dataframe)\n",
    "    right_gini = gini_impurity(right_dataframe)\n",
    "    \n",
    "    left_weight = float(len(left_dataframe))/float(len(current_dataframe))\n",
    "    information_gain = current_gini - (left_weight * left_gini + (1 - left_weight) * right_gini)\n",
    "    \n",
    "    return information_gain"
   ]
  },
  {
   "cell_type": "code",
   "execution_count": 42,
   "id": "c82ff24d",
   "metadata": {},
   "outputs": [
    {
     "data": {
      "text/plain": [
       "2"
      ]
     },
     "execution_count": 42,
     "metadata": {},
     "output_type": "execute_result"
    }
   ],
   "source": [
    "len(training_dataframe.columns)-1"
   ]
  },
  {
   "cell_type": "code",
   "execution_count": 102,
   "id": "53ac1a6a",
   "metadata": {},
   "outputs": [],
   "source": [
    "# Split Data in Columns with Numerical Variable\n",
    "def number_split(dataframe, col_name, value):\n",
    "\n",
    "    right_dataframe = dataframe.loc[dataframe[col_name] > value]\n",
    "    left_dataframe = dataframe.loc[dataframe[col_name] <= value]\n",
    "    return right_dataframe, left_dataframe"
   ]
  },
  {
   "cell_type": "code",
   "execution_count": 110,
   "id": "a68e5254",
   "metadata": {},
   "outputs": [],
   "source": [
    "# Split Data in Columns with Categorical Variable\n",
    "def categorical_split(dataframe, col_name, value):\n",
    "    \n",
    "    right_dataframe = dataframe.loc[dataframe[col_name] == value]\n",
    "    left_dataframe = dataframe.loc[dataframe[col_name] != value]\n",
    "    return right_dataframe, left_dataframe"
   ]
  },
  {
   "cell_type": "code",
   "execution_count": 120,
   "id": "ac995f92",
   "metadata": {},
   "outputs": [],
   "source": [
    "# Finding the best split for each dataframe\n",
    "def find_best_split(dataframe):\n",
    "    \n",
    "    best_information_gain = 0\n",
    "    best_label_to_split = None\n",
    "    best_value_to_split = None\n",
    "    current_gini = gini_impurity(dataframe)\n",
    "    n_features = training_dataframe.columns.drop(\"label\") # Finding the number of feature, -1 for label columns\n",
    "    \n",
    "    for col_name in n_features:\n",
    "        unique_values = get_column_unique_value(dataframe, col_name)\n",
    "        \n",
    "        for values in unique_values:\n",
    "            \n",
    "            number_or_not = isinstance(values, int) or isinstance(values, float)\n",
    "            \n",
    "            if number_or_not == True:\n",
    "                \n",
    "                right_dataframe, left_dataframe = number_split(dataframe, col_name, values)\n",
    "                \n",
    "                infor_gain = information_gain(left_dataframe, right_dataframe, dataframe)\n",
    "                \n",
    "            else: \n",
    "                right_dataframe, left_dataframe = number_split(dataframe, col_name, values)\n",
    "                \n",
    "                infor_gain = information_gain(left_dataframe, right_dataframe, dataframe)\n",
    "            \n",
    "            if infor_gain > best_information_gain:\n",
    "                \n",
    "                best_information_gain = infor_gain\n",
    "                best_label_to_split = col_name\n",
    "                best_value_to_split = values\n",
    "                \n",
    "    \n",
    "    return best_label_to_split, best_value_to_split, best_information_gain"
   ]
  },
  {
   "cell_type": "code",
   "execution_count": 121,
   "id": "26a21359",
   "metadata": {
    "scrolled": true
   },
   "outputs": [
    {
     "data": {
      "text/plain": [
       "('diameter', 1, 0.37333333333333324)"
      ]
     },
     "execution_count": 121,
     "metadata": {},
     "output_type": "execute_result"
    }
   ],
   "source": [
    "find_best_split(training_dataframe)"
   ]
  },
  {
   "cell_type": "code",
   "execution_count": null,
   "id": "e2473cce",
   "metadata": {},
   "outputs": [],
   "source": [
    "def build_trees(dataframe):\n",
    "    "
   ]
  },
  {
   "cell_type": "code",
   "execution_count": null,
   "id": "e5b20343",
   "metadata": {},
   "outputs": [],
   "source": []
  }
 ],
 "metadata": {
  "kernelspec": {
   "display_name": "Python 3 (ipykernel)",
   "language": "python",
   "name": "python3"
  },
  "language_info": {
   "codemirror_mode": {
    "name": "ipython",
    "version": 3
   },
   "file_extension": ".py",
   "mimetype": "text/x-python",
   "name": "python",
   "nbconvert_exporter": "python",
   "pygments_lexer": "ipython3",
   "version": "3.11.3"
  }
 },
 "nbformat": 4,
 "nbformat_minor": 5
}
