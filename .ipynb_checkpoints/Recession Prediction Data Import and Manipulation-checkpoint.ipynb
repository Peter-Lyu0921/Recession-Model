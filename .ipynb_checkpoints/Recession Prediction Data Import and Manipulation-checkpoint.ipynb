{
 "cells": [
  {
   "cell_type": "code",
   "execution_count": 2,
   "id": "507d546c",
   "metadata": {},
   "outputs": [],
   "source": [
    "import pandas as pd\n",
    "import numpy as np\n",
    "import yfinance as yf\n",
    "import os"
   ]
  },
  {
   "cell_type": "markdown",
   "id": "1cfca55d",
   "metadata": {},
   "source": [
    "## Create Function to Import Data from Yahoo Finance"
   ]
  },
  {
   "cell_type": "code",
   "execution_count": 3,
   "id": "bb0699d1",
   "metadata": {},
   "outputs": [],
   "source": [
    "def get_yfinance_data(ticker_name, period):\n",
    "    ticker = ticker_name\n",
    "    period = period\n",
    "    \n",
    "    data = yf.Ticker(ticker)\n",
    "    historical_close = pd.DataFrame(data.history(period = period))[\"Close\"]\n",
    "    return(historical_close)"
   ]
  },
  {
   "cell_type": "code",
   "execution_count": 4,
   "id": "624f2b32",
   "metadata": {},
   "outputs": [],
   "source": [
    "yahoo_data_list = [\"SPY\", \"DJI\"]"
   ]
  },
  {
   "cell_type": "code",
   "execution_count": 5,
   "id": "f4cc4a8c",
   "metadata": {},
   "outputs": [
    {
     "name": "stdout",
     "output_type": "stream",
     "text": [
      "                                Close\n",
      "Date                                 \n",
      "1993-01-29 00:00:00-05:00   24.941389\n",
      "1993-02-01 00:00:00-05:00   25.118786\n",
      "1993-02-02 00:00:00-05:00   25.172005\n",
      "1993-02-03 00:00:00-05:00   25.438089\n",
      "1993-02-04 00:00:00-05:00   25.544531\n",
      "...                               ...\n",
      "2023-10-23 00:00:00-04:00  420.459991\n",
      "2023-10-24 00:00:00-04:00  423.630005\n",
      "2023-10-25 00:00:00-04:00  417.549988\n",
      "2023-10-26 00:00:00-04:00  412.549988\n",
      "2023-10-27 00:00:00-04:00  410.679993\n",
      "\n",
      "[7743 rows x 1 columns]\n",
      "                                  Close\n",
      "Date                                   \n",
      "1970-01-02 00:00:00-05:00    809.200012\n",
      "1970-01-05 00:00:00-05:00    811.309998\n",
      "1970-01-06 00:00:00-05:00    803.659973\n",
      "1970-01-07 00:00:00-05:00    801.809998\n",
      "1970-01-08 00:00:00-05:00    802.070007\n",
      "...                                 ...\n",
      "2022-02-24 00:00:00-05:00  33223.800781\n",
      "2022-02-25 00:00:00-05:00  34058.800781\n",
      "2022-02-28 00:00:00-05:00  33892.601562\n",
      "2022-03-01 00:00:00-05:00  33294.898438\n",
      "2022-03-02 00:00:00-05:00  33891.300781\n",
      "\n",
      "[12987 rows x 1 columns]\n"
     ]
    }
   ],
   "source": [
    "for ticker in yahoo_data_list:\n",
    "    data = pd.DataFrame(get_yfinance_data(ticker, \"max\"))\n",
    "    print(data)"
   ]
  },
  {
   "cell_type": "markdown",
   "id": "5f7f82fd",
   "metadata": {},
   "source": [
    "## Read CSV Files in the Folder"
   ]
  },
  {
   "cell_type": "code",
   "execution_count": 7,
   "id": "ec78ad79",
   "metadata": {},
   "outputs": [],
   "source": [
    "directory = os.listdir(\"C:/Users/peter/Desktop/python-recession-model\")"
   ]
  },
  {
   "cell_type": "code",
   "execution_count": null,
   "id": "bf7212b3",
   "metadata": {},
   "outputs": [],
   "source": []
  },
  {
   "cell_type": "code",
   "execution_count": 8,
   "id": "7ad1a795",
   "metadata": {},
   "outputs": [],
   "source": [
    "csv_file_list = []\n",
    "csv_name = []\n",
    "for file in directory:\n",
    "    if file.endswith(\".csv\"):\n",
    "        data_name = file.split(\".\")[0]\n",
    "        data = pd.read_csv(file)\n",
    "        csv_name.append(data_name)\n",
    "        csv_file_list.append(data)"
   ]
  },
  {
   "cell_type": "code",
   "execution_count": 9,
   "id": "b1da1808",
   "metadata": {},
   "outputs": [],
   "source": [
    "csv_file_name_list = [\"capacity_utilization_total_index, \"]"
   ]
  },
  {
   "cell_type": "code",
   "execution_count": 38,
   "id": "ad4190df",
   "metadata": {},
   "outputs": [
    {
     "data": {
      "text/plain": [
       "'vix'"
      ]
     },
     "execution_count": 38,
     "metadata": {},
     "output_type": "execute_result"
    }
   ],
   "source": [
    "csv_name1 = pd.DataFrame(csv_name).apply(lambda x: x.str.lower().str.replace(' ', '_'))"
   ]
  },
  {
   "cell_type": "code",
   "execution_count": 48,
   "id": "f57d4878",
   "metadata": {},
   "outputs": [
    {
     "data": {
      "text/plain": [
       "'capacity_utilization_total_index'"
      ]
     },
     "execution_count": 48,
     "metadata": {},
     "output_type": "execute_result"
    }
   ],
   "source": []
  },
  {
   "cell_type": "code",
   "execution_count": 49,
   "id": "e9f11362",
   "metadata": {},
   "outputs": [],
   "source": [
    "table_dict = {}\n",
    "\n",
    "for i in range(30):\n",
    "        table_name = csv_name1.at[i, 0]\n",
    "        data = pd.DataFrame(csv_file_list[i])\n",
    "        table_dict[table_name] = data"
   ]
  },
  {
   "cell_type": "code",
   "execution_count": 55,
   "id": "cd1ee753",
   "metadata": {},
   "outputs": [
    {
     "data": {
      "text/html": [
       "<div>\n",
       "<style scoped>\n",
       "    .dataframe tbody tr th:only-of-type {\n",
       "        vertical-align: middle;\n",
       "    }\n",
       "\n",
       "    .dataframe tbody tr th {\n",
       "        vertical-align: top;\n",
       "    }\n",
       "\n",
       "    .dataframe thead th {\n",
       "        text-align: right;\n",
       "    }\n",
       "</style>\n",
       "<table border=\"1\" class=\"dataframe\">\n",
       "  <thead>\n",
       "    <tr style=\"text-align: right;\">\n",
       "      <th></th>\n",
       "      <th>DATE</th>\n",
       "      <th>TCU</th>\n",
       "    </tr>\n",
       "  </thead>\n",
       "  <tbody>\n",
       "    <tr>\n",
       "      <th>0</th>\n",
       "      <td>1967-01-01</td>\n",
       "      <td>89.3902</td>\n",
       "    </tr>\n",
       "    <tr>\n",
       "      <th>1</th>\n",
       "      <td>1967-02-01</td>\n",
       "      <td>87.9750</td>\n",
       "    </tr>\n",
       "    <tr>\n",
       "      <th>2</th>\n",
       "      <td>1967-03-01</td>\n",
       "      <td>87.0835</td>\n",
       "    </tr>\n",
       "    <tr>\n",
       "      <th>3</th>\n",
       "      <td>1967-04-01</td>\n",
       "      <td>87.5089</td>\n",
       "    </tr>\n",
       "    <tr>\n",
       "      <th>4</th>\n",
       "      <td>1967-05-01</td>\n",
       "      <td>86.3566</td>\n",
       "    </tr>\n",
       "    <tr>\n",
       "      <th>...</th>\n",
       "      <td>...</td>\n",
       "      <td>...</td>\n",
       "    </tr>\n",
       "    <tr>\n",
       "      <th>676</th>\n",
       "      <td>2023-05-01</td>\n",
       "      <td>79.4570</td>\n",
       "    </tr>\n",
       "    <tr>\n",
       "      <th>677</th>\n",
       "      <td>2023-06-01</td>\n",
       "      <td>78.9301</td>\n",
       "    </tr>\n",
       "    <tr>\n",
       "      <th>678</th>\n",
       "      <td>2023-07-01</td>\n",
       "      <td>79.6066</td>\n",
       "    </tr>\n",
       "    <tr>\n",
       "      <th>679</th>\n",
       "      <td>2023-08-01</td>\n",
       "      <td>79.5385</td>\n",
       "    </tr>\n",
       "    <tr>\n",
       "      <th>680</th>\n",
       "      <td>2023-09-01</td>\n",
       "      <td>79.6786</td>\n",
       "    </tr>\n",
       "  </tbody>\n",
       "</table>\n",
       "<p>681 rows × 2 columns</p>\n",
       "</div>"
      ],
      "text/plain": [
       "           DATE      TCU\n",
       "0    1967-01-01  89.3902\n",
       "1    1967-02-01  87.9750\n",
       "2    1967-03-01  87.0835\n",
       "3    1967-04-01  87.5089\n",
       "4    1967-05-01  86.3566\n",
       "..          ...      ...\n",
       "676  2023-05-01  79.4570\n",
       "677  2023-06-01  78.9301\n",
       "678  2023-07-01  79.6066\n",
       "679  2023-08-01  79.5385\n",
       "680  2023-09-01  79.6786\n",
       "\n",
       "[681 rows x 2 columns]"
      ]
     },
     "execution_count": 55,
     "metadata": {},
     "output_type": "execute_result"
    }
   ],
   "source": [
    "table_dict['capacity_utilization_total_index']"
   ]
  },
  {
   "cell_type": "code",
   "execution_count": null,
   "id": "a46d7e42",
   "metadata": {},
   "outputs": [],
   "source": []
  }
 ],
 "metadata": {
  "kernelspec": {
   "display_name": "Python 3 (ipykernel)",
   "language": "python",
   "name": "python3"
  },
  "language_info": {
   "codemirror_mode": {
    "name": "ipython",
    "version": 3
   },
   "file_extension": ".py",
   "mimetype": "text/x-python",
   "name": "python",
   "nbconvert_exporter": "python",
   "pygments_lexer": "ipython3",
   "version": "3.11.3"
  }
 },
 "nbformat": 4,
 "nbformat_minor": 5
}
