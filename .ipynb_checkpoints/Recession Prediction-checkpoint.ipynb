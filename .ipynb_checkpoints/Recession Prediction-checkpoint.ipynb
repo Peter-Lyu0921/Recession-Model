{
 "cells": [
  {
   "cell_type": "code",
   "execution_count": 30,
   "id": "d439c33c",
   "metadata": {},
   "outputs": [],
   "source": [
    "import pandas as pd\n",
    "import numpy as np\n",
    "from sklearn import model_selection\n",
    "from sklearn import linear_model\n",
    "from sklearn import preprocessing\n",
    "import matplotlib.pyplot as plt"
   ]
  },
  {
   "cell_type": "code",
   "execution_count": 21,
   "id": "92d313df",
   "metadata": {},
   "outputs": [],
   "source": [
    "def get_numpy_data(dataframe, features, label):\n",
    "    features_matrix = dataframe[features].to_numpy()\n",
    "    label_array = dataframe[label].to_numpy()\n",
    "    return(features_matrix, label_array)"
   ]
  },
  {
   "cell_type": "code",
   "execution_count": 22,
   "id": "1c9e77d2",
   "metadata": {},
   "outputs": [],
   "source": [
    "# Finalizing the Recession Data\n",
    "recession_data = pd.read_csv(\"updated_final_data.csv\")\n",
    "recession_data = recession_data.drop([\"Unnamed: 0\", \"date\", \"usrecd\"], axis = 1)\n",
    "recession_data[\"spread_derivative\"] = pd.to_numeric(recession_data[\"spread_derivative\"], errors = \"coerce\")\n",
    "recession_data.replace([np.inf, -np.inf], np.nan, inplace=True)\n",
    "recession_data = recession_data.dropna()\n",
    "\n",
    "# Create the feature list and target label\n",
    "features_list = recession_data.columns.to_list()\n",
    "features_list.remove(\"custom_recession_data\")\n",
    "\n",
    "recession_label = \"custom_recession_data\""
   ]
  },
  {
   "cell_type": "code",
   "execution_count": 23,
   "id": "1f749f97",
   "metadata": {},
   "outputs": [],
   "source": [
    "# Create the Numpy feature matrix and recession label\n",
    "features_matrix, label_array = get_numpy_data(recession_data, features_list, recession_label)"
   ]
  },
  {
   "cell_type": "code",
   "execution_count": 24,
   "id": "fc8ce0bf",
   "metadata": {},
   "outputs": [],
   "source": [
    "# Create the train-test split\n",
    "x_train, x_test, y_train, y_test = model_selection.train_test_split(features_matrix, label_array, test_size = 0.3, random_state = 11)"
   ]
  },
  {
   "cell_type": "code",
   "execution_count": 28,
   "id": "1e0ccf28",
   "metadata": {},
   "outputs": [],
   "source": [
    "# Standardrize the each features\n",
    "scale = preprocessing.StandardScaler().fit(x_train)\n",
    "x_train = scale.transform(x_train)"
   ]
  },
  {
   "cell_type": "code",
   "execution_count": 27,
   "id": "990f1a45",
   "metadata": {},
   "outputs": [],
   "source": [
    "log_reg = linear_model.LogisticRegression()\n",
    "rec_logistic = log_reg.fit(x_train, y_train)"
   ]
  },
  {
   "cell_type": "code",
   "execution_count": 64,
   "id": "5a714c53",
   "metadata": {},
   "outputs": [],
   "source": [
    "training_prob = rec_logistic.predict_proba(x_test)"
   ]
  },
  {
   "cell_type": "code",
   "execution_count": 97,
   "id": "8901a5b1",
   "metadata": {},
   "outputs": [],
   "source": [
    "def prob_to_rec(recession_probabilities_array, prob_threshold):\n",
    "    \n",
    "    array = np.where(recession_probabilities_array > prob_threshold, 1, 0)\n",
    "    return array"
   ]
  },
  {
   "cell_type": "code",
   "execution_count": 105,
   "id": "eff09b0f",
   "metadata": {},
   "outputs": [],
   "source": [
    "def find_optimize_thrshold(recession_probabilities_array, threshold_array, y_test):\n",
    "    \n",
    "    for threshold in threshold_array:\n",
    "        print(threshold)\n",
    "        prob = prob_to_rec(recession_probabilities_array, threshold)[:,1]\n",
    "        check = (prob == y_test)\n",
    "        print(\"Correct Classified Probabilities: \" + str(np.count_nonzero(check == True)/len(y_test)))"
   ]
  },
  {
   "cell_type": "code",
   "execution_count": 103,
   "id": "21ed4bca",
   "metadata": {},
   "outputs": [],
   "source": [
    "threshold_array = np.arange(0.3, 0.8, 0.05)"
   ]
  },
  {
   "cell_type": "code",
   "execution_count": 106,
   "id": "09429a9a",
   "metadata": {
    "scrolled": true
   },
   "outputs": [
    {
     "name": "stdout",
     "output_type": "stream",
     "text": [
      "0.3\n"
     ]
    },
    {
     "ename": "TypeError",
     "evalue": "'<' not supported between instances of 'float' and 'function'",
     "output_type": "error",
     "traceback": [
      "\u001b[1;31m---------------------------------------------------------------------------\u001b[0m",
      "\u001b[1;31mTypeError\u001b[0m                                 Traceback (most recent call last)",
      "Cell \u001b[1;32mIn[106], line 1\u001b[0m\n\u001b[1;32m----> 1\u001b[0m find_optimize_thrshold(find_optimize_thrshold, threshold_array \u001b[38;5;241m=\u001b[39m threshold_array, y_test \u001b[38;5;241m=\u001b[39my_test)\n",
      "Cell \u001b[1;32mIn[105], line 5\u001b[0m, in \u001b[0;36mfind_optimize_thrshold\u001b[1;34m(recession_probabilities_array, threshold_array, y_test)\u001b[0m\n\u001b[0;32m      3\u001b[0m \u001b[38;5;28;01mfor\u001b[39;00m threshold \u001b[38;5;129;01min\u001b[39;00m threshold_array:\n\u001b[0;32m      4\u001b[0m     \u001b[38;5;28mprint\u001b[39m(threshold)\n\u001b[1;32m----> 5\u001b[0m     prob \u001b[38;5;241m=\u001b[39m prob_to_rec(recession_probabilities_array, threshold)[:,\u001b[38;5;241m1\u001b[39m]\n\u001b[0;32m      6\u001b[0m     check \u001b[38;5;241m=\u001b[39m (prob \u001b[38;5;241m==\u001b[39m y_test)\n\u001b[0;32m      7\u001b[0m     \u001b[38;5;28mprint\u001b[39m(\u001b[38;5;124m\"\u001b[39m\u001b[38;5;124mCorrect Classified Probabilities: \u001b[39m\u001b[38;5;124m\"\u001b[39m \u001b[38;5;241m+\u001b[39m \u001b[38;5;28mstr\u001b[39m(np\u001b[38;5;241m.\u001b[39mcount_nonzero(check \u001b[38;5;241m==\u001b[39m \u001b[38;5;28;01mTrue\u001b[39;00m)\u001b[38;5;241m/\u001b[39m\u001b[38;5;28mlen\u001b[39m(y_test)))\n",
      "Cell \u001b[1;32mIn[97], line 3\u001b[0m, in \u001b[0;36mprob_to_rec\u001b[1;34m(recession_probabilities_array, prob_threshold)\u001b[0m\n\u001b[0;32m      1\u001b[0m \u001b[38;5;28;01mdef\u001b[39;00m \u001b[38;5;21mprob_to_rec\u001b[39m(recession_probabilities_array, prob_threshold):\n\u001b[1;32m----> 3\u001b[0m     array \u001b[38;5;241m=\u001b[39m np\u001b[38;5;241m.\u001b[39mwhere(recession_probabilities_array \u001b[38;5;241m>\u001b[39m prob_threshold, \u001b[38;5;241m1\u001b[39m, \u001b[38;5;241m0\u001b[39m)\n\u001b[0;32m      4\u001b[0m     \u001b[38;5;28;01mreturn\u001b[39;00m array\n",
      "\u001b[1;31mTypeError\u001b[0m: '<' not supported between instances of 'float' and 'function'"
     ]
    }
   ],
   "source": [
    "find_optimize_thrshold(find_optimize_thrshold, threshold_array = threshold_array, y_test =y_test)"
   ]
  },
  {
   "cell_type": "code",
   "execution_count": 129,
   "id": "4e774911",
   "metadata": {},
   "outputs": [],
   "source": [
    "test_rec = prob_to_rec(training_prob, 0.5)[:,1]"
   ]
  },
  {
   "cell_type": "code",
   "execution_count": 130,
   "id": "7157b853",
   "metadata": {},
   "outputs": [],
   "source": [
    "check = (test_rec == y_test)"
   ]
  },
  {
   "cell_type": "code",
   "execution_count": 131,
   "id": "97c07554",
   "metadata": {},
   "outputs": [
    {
     "data": {
      "text/plain": [
       "0.7968025949953661"
      ]
     },
     "execution_count": 131,
     "metadata": {},
     "output_type": "execute_result"
    }
   ],
   "source": [
    "np.count_nonzero(check == True)/len(y_test)"
   ]
  }
 ],
 "metadata": {
  "kernelspec": {
   "display_name": "Python 3 (ipykernel)",
   "language": "python",
   "name": "python3"
  },
  "language_info": {
   "codemirror_mode": {
    "name": "ipython",
    "version": 3
   },
   "file_extension": ".py",
   "mimetype": "text/x-python",
   "name": "python",
   "nbconvert_exporter": "python",
   "pygments_lexer": "ipython3",
   "version": "3.11.3"
  }
 },
 "nbformat": 4,
 "nbformat_minor": 5
}
