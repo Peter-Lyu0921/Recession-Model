{
 "cells": [
  {
   "cell_type": "code",
   "execution_count": 68,
   "id": "507d546c",
   "metadata": {},
   "outputs": [],
   "source": [
    "import pandas as pd\n",
    "import numpy as np\n",
    "import yfinance as yf\n",
    "import os"
   ]
  },
  {
   "cell_type": "markdown",
   "id": "1cfca55d",
   "metadata": {},
   "source": [
    "## Create Function to Import Data from Yahoo Finance"
   ]
  },
  {
   "cell_type": "code",
   "execution_count": 44,
   "id": "bb0699d1",
   "metadata": {},
   "outputs": [],
   "source": [
    "def get_yfinance_data(ticker_name, period):\n",
    "    ticker = ticker_name\n",
    "    period = period\n",
    "    \n",
    "    data = yf.Ticker(ticker)\n",
    "    historical_close = pd.DataFrame(data.history(period = period))[\"Close\"]\n",
    "    return(historical_close)"
   ]
  },
  {
   "cell_type": "code",
   "execution_count": 64,
   "id": "624f2b32",
   "metadata": {},
   "outputs": [],
   "source": [
    "yahoo_data_list = [\"SPY\", \"DJI\"]"
   ]
  },
  {
   "cell_type": "code",
   "execution_count": 65,
   "id": "f4cc4a8c",
   "metadata": {},
   "outputs": [
    {
     "name": "stdout",
     "output_type": "stream",
     "text": [
      "                                Close\n",
      "Date                                 \n",
      "1993-01-29 00:00:00-05:00   24.941402\n",
      "1993-02-01 00:00:00-05:00   25.118780\n",
      "1993-02-02 00:00:00-05:00   25.171989\n",
      "1993-02-03 00:00:00-05:00   25.438084\n",
      "1993-02-04 00:00:00-05:00   25.544519\n",
      "...                               ...\n",
      "2023-10-23 00:00:00-04:00  420.459991\n",
      "2023-10-24 00:00:00-04:00  423.630005\n",
      "2023-10-25 00:00:00-04:00  417.549988\n",
      "2023-10-26 00:00:00-04:00  412.549988\n",
      "2023-10-27 00:00:00-04:00  410.679993\n",
      "\n",
      "[7743 rows x 1 columns]\n",
      "                                  Close\n",
      "Date                                   \n",
      "1970-01-02 00:00:00-05:00    809.200012\n",
      "1970-01-05 00:00:00-05:00    811.309998\n",
      "1970-01-06 00:00:00-05:00    803.659973\n",
      "1970-01-07 00:00:00-05:00    801.809998\n",
      "1970-01-08 00:00:00-05:00    802.070007\n",
      "...                                 ...\n",
      "2022-02-24 00:00:00-05:00  33223.800781\n",
      "2022-02-25 00:00:00-05:00  34058.800781\n",
      "2022-02-28 00:00:00-05:00  33892.601562\n",
      "2022-03-01 00:00:00-05:00  33294.898438\n",
      "2022-03-02 00:00:00-05:00  33891.300781\n",
      "\n",
      "[12987 rows x 1 columns]\n"
     ]
    }
   ],
   "source": [
    "for ticker in yahoo_data_list:\n",
    "    data = pd.DataFrame(get_yfinance_data(ticker, \"max\"))\n",
    "    print(data)"
   ]
  },
  {
   "cell_type": "markdown",
   "id": "5f7f82fd",
   "metadata": {},
   "source": [
    "## Read CSV Files in the Folder"
   ]
  },
  {
   "cell_type": "code",
   "execution_count": 69,
   "id": "ec78ad79",
   "metadata": {},
   "outputs": [],
   "source": [
    "directory = os.listdir(\"C:/Users/peter/Desktop/Python Recession Model\")"
   ]
  },
  {
   "cell_type": "code",
   "execution_count": null,
   "id": "bf7212b3",
   "metadata": {},
   "outputs": [],
   "source": []
  },
  {
   "cell_type": "code",
   "execution_count": 88,
   "id": "7ad1a795",
   "metadata": {},
   "outputs": [],
   "source": [
    "csv_file_list = []\n",
    "csv_name = []\n",
    "for file in directory:\n",
    "    if file.endswith(\".csv\"):\n",
    "        data_name = file.split(\".\")[0]\n",
    "        data = pd.read_csv(file)\n",
    "        csv_name.append(data_name)\n",
    "        csv_file_list.append(data)"
   ]
  },
  {
   "cell_type": "code",
   "execution_count": 89,
   "id": "b1da1808",
   "metadata": {},
   "outputs": [],
   "source": [
    "csv_file_name_list = [\"capacity_utilization_total_index, \"]"
   ]
  },
  {
   "cell_type": "code",
   "execution_count": 96,
   "id": "ad4190df",
   "metadata": {},
   "outputs": [
    {
     "name": "stdout",
     "output_type": "stream",
     "text": [
      "RangeIndex(start=0, stop=30, step=1)\n"
     ]
    }
   ],
   "source": [
    "csv_name1 = pd.DataFrame(csv_name).apply(lambda x: x.str.lower().str.replace(' ', '_'))\n",
    "\n",
    "for i in csv_name1:\n",
    "    print(csv_name1.index)"
   ]
  },
  {
   "cell_type": "code",
   "execution_count": 94,
   "id": "f57d4878",
   "metadata": {},
   "outputs": [
    {
     "data": {
      "text/html": [
       "<div>\n",
       "<style scoped>\n",
       "    .dataframe tbody tr th:only-of-type {\n",
       "        vertical-align: middle;\n",
       "    }\n",
       "\n",
       "    .dataframe tbody tr th {\n",
       "        vertical-align: top;\n",
       "    }\n",
       "\n",
       "    .dataframe thead th {\n",
       "        text-align: right;\n",
       "    }\n",
       "</style>\n",
       "<table border=\"1\" class=\"dataframe\">\n",
       "  <thead>\n",
       "    <tr style=\"text-align: right;\">\n",
       "      <th></th>\n",
       "      <th>0</th>\n",
       "    </tr>\n",
       "  </thead>\n",
       "  <tbody>\n",
       "    <tr>\n",
       "      <th>0</th>\n",
       "      <td>capacity_utilization_total_index</td>\n",
       "    </tr>\n",
       "    <tr>\n",
       "      <th>1</th>\n",
       "      <td>consumer_price_index_for_all_urban_consumers_a...</td>\n",
       "    </tr>\n",
       "    <tr>\n",
       "      <th>2</th>\n",
       "      <td>cpi</td>\n",
       "    </tr>\n",
       "    <tr>\n",
       "      <th>3</th>\n",
       "      <td>crude_oil_prices_west_texas_intermediate_(wti)...</td>\n",
       "    </tr>\n",
       "    <tr>\n",
       "      <th>4</th>\n",
       "      <td>dji</td>\n",
       "    </tr>\n",
       "    <tr>\n",
       "      <th>5</th>\n",
       "      <td>economic_policy_uncertainty_index_for_united_s...</td>\n",
       "    </tr>\n",
       "    <tr>\n",
       "      <th>6</th>\n",
       "      <td>federal_funds</td>\n",
       "    </tr>\n",
       "    <tr>\n",
       "      <th>7</th>\n",
       "      <td>federal_funds_effective_rate_daily</td>\n",
       "    </tr>\n",
       "    <tr>\n",
       "      <th>8</th>\n",
       "      <td>fed_model_data</td>\n",
       "    </tr>\n",
       "    <tr>\n",
       "      <th>9</th>\n",
       "      <td>industrial_production_total_index</td>\n",
       "    </tr>\n",
       "    <tr>\n",
       "      <th>10</th>\n",
       "      <td>inflation,_consumer_prices_for_the_united_states</td>\n",
       "    </tr>\n",
       "    <tr>\n",
       "      <th>11</th>\n",
       "      <td>initial_claims</td>\n",
       "    </tr>\n",
       "    <tr>\n",
       "      <th>12</th>\n",
       "      <td>labor_force_participation_rate</td>\n",
       "    </tr>\n",
       "    <tr>\n",
       "      <th>13</th>\n",
       "      <td>leading_index_for_the_united_states</td>\n",
       "    </tr>\n",
       "    <tr>\n",
       "      <th>14</th>\n",
       "      <td>m1_monthly</td>\n",
       "    </tr>\n",
       "    <tr>\n",
       "      <th>15</th>\n",
       "      <td>m2_monthly</td>\n",
       "    </tr>\n",
       "    <tr>\n",
       "      <th>16</th>\n",
       "      <td>m3_monthly</td>\n",
       "    </tr>\n",
       "    <tr>\n",
       "      <th>17</th>\n",
       "      <td>market_yield_on_u</td>\n",
       "    </tr>\n",
       "    <tr>\n",
       "      <th>18</th>\n",
       "      <td>market_yield_on_u</td>\n",
       "    </tr>\n",
       "    <tr>\n",
       "      <th>19</th>\n",
       "      <td>monetary_aggregates_and_their_components_broad...</td>\n",
       "    </tr>\n",
       "    <tr>\n",
       "      <th>20</th>\n",
       "      <td>monetary_base__total</td>\n",
       "    </tr>\n",
       "    <tr>\n",
       "      <th>21</th>\n",
       "      <td>nber_based_recession_indicators_for_the_united...</td>\n",
       "    </tr>\n",
       "    <tr>\n",
       "      <th>22</th>\n",
       "      <td>sp500</td>\n",
       "    </tr>\n",
       "    <tr>\n",
       "      <th>23</th>\n",
       "      <td>t10y2y_daily</td>\n",
       "    </tr>\n",
       "    <tr>\n",
       "      <th>24</th>\n",
       "      <td>t10y3m_daily</td>\n",
       "    </tr>\n",
       "    <tr>\n",
       "      <th>25</th>\n",
       "      <td>unemployment_rate</td>\n",
       "    </tr>\n",
       "    <tr>\n",
       "      <th>26</th>\n",
       "      <td>university_of_michigan_consumer_sentiment</td>\n",
       "    </tr>\n",
       "    <tr>\n",
       "      <th>27</th>\n",
       "      <td>university_of_michigan_inflation_expectation</td>\n",
       "    </tr>\n",
       "    <tr>\n",
       "      <th>28</th>\n",
       "      <td>velocity_of_m2_money_stock</td>\n",
       "    </tr>\n",
       "    <tr>\n",
       "      <th>29</th>\n",
       "      <td>vix</td>\n",
       "    </tr>\n",
       "  </tbody>\n",
       "</table>\n",
       "</div>"
      ],
      "text/plain": [
       "                                                    0\n",
       "0                    capacity_utilization_total_index\n",
       "1   consumer_price_index_for_all_urban_consumers_a...\n",
       "2                                                 cpi\n",
       "3   crude_oil_prices_west_texas_intermediate_(wti)...\n",
       "4                                                 dji\n",
       "5   economic_policy_uncertainty_index_for_united_s...\n",
       "6                                       federal_funds\n",
       "7                  federal_funds_effective_rate_daily\n",
       "8                                      fed_model_data\n",
       "9                   industrial_production_total_index\n",
       "10   inflation,_consumer_prices_for_the_united_states\n",
       "11                                     initial_claims\n",
       "12                     labor_force_participation_rate\n",
       "13                leading_index_for_the_united_states\n",
       "14                                         m1_monthly\n",
       "15                                         m2_monthly\n",
       "16                                         m3_monthly\n",
       "17                                  market_yield_on_u\n",
       "18                                  market_yield_on_u\n",
       "19  monetary_aggregates_and_their_components_broad...\n",
       "20                               monetary_base__total\n",
       "21  nber_based_recession_indicators_for_the_united...\n",
       "22                                              sp500\n",
       "23                                       t10y2y_daily\n",
       "24                                       t10y3m_daily\n",
       "25                                  unemployment_rate\n",
       "26          university_of_michigan_consumer_sentiment\n",
       "27       university_of_michigan_inflation_expectation\n",
       "28                         velocity_of_m2_money_stock\n",
       "29                                                vix"
      ]
     },
     "execution_count": 94,
     "metadata": {},
     "output_type": "execute_result"
    }
   ],
   "source": []
  },
  {
   "cell_type": "code",
   "execution_count": null,
   "id": "e9f11362",
   "metadata": {},
   "outputs": [],
   "source": []
  },
  {
   "cell_type": "code",
   "execution_count": null,
   "id": "cd1ee753",
   "metadata": {},
   "outputs": [],
   "source": []
  },
  {
   "cell_type": "code",
   "execution_count": null,
   "id": "a46d7e42",
   "metadata": {},
   "outputs": [],
   "source": []
  }
 ],
 "metadata": {
  "kernelspec": {
   "display_name": "Python 3 (ipykernel)",
   "language": "python",
   "name": "python3"
  },
  "language_info": {
   "codemirror_mode": {
    "name": "ipython",
    "version": 3
   },
   "file_extension": ".py",
   "mimetype": "text/x-python",
   "name": "python",
   "nbconvert_exporter": "python",
   "pygments_lexer": "ipython3",
   "version": "3.11.3"
  }
 },
 "nbformat": 4,
 "nbformat_minor": 5
}
